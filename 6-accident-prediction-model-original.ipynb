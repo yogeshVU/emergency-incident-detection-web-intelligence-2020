{
 "cells": [
  {
   "cell_type": "code",
   "execution_count": 41,
   "metadata": {},
   "outputs": [],
   "source": [
    "import pandas as pd\n",
    "import numpy as np\n",
    "from dateutil.parser import parse\n",
    "from datetime import timedelta\n",
    "import tqdm\n",
    "import h3"
   ]
  },
  {
   "cell_type": "code",
   "execution_count": 3,
   "metadata": {},
   "outputs": [],
   "source": [
    "records = pd.read_pickle('output/waze_12_features.pkl')\n",
    "labels = pd.read_pickle('output/waze_12_labels.pkl')"
   ]
  },
  {
   "cell_type": "code",
   "execution_count": 4,
   "metadata": {
    "scrolled": true
   },
   "outputs": [
    {
     "data": {
      "text/html": [
       "<div>\n",
       "<style scoped>\n",
       "    .dataframe tbody tr th:only-of-type {\n",
       "        vertical-align: middle;\n",
       "    }\n",
       "\n",
       "    .dataframe tbody tr th {\n",
       "        vertical-align: top;\n",
       "    }\n",
       "\n",
       "    .dataframe thead th {\n",
       "        text-align: right;\n",
       "    }\n",
       "</style>\n",
       "<table border=\"1\" class=\"dataframe\">\n",
       "  <thead>\n",
       "    <tr style=\"text-align: right;\">\n",
       "      <th></th>\n",
       "      <th>time</th>\n",
       "      <th>reliability</th>\n",
       "      <th>r_86264d8dfffffff</th>\n",
       "      <th>r_86264d157ffffff</th>\n",
       "      <th>r_86264d177ffffff</th>\n",
       "      <th>r_86264d10fffffff</th>\n",
       "      <th>r_86264d11fffffff</th>\n",
       "      <th>r_86264d107ffffff</th>\n",
       "      <th>r_86264d117ffffff</th>\n",
       "      <th>r_86264d137ffffff</th>\n",
       "      <th>...</th>\n",
       "      <th>r_86264d887ffffff</th>\n",
       "      <th>r_86264d897ffffff</th>\n",
       "      <th>r_86264d147ffffff</th>\n",
       "      <th>r_86264d8a7ffffff</th>\n",
       "      <th>r_86264d8c7ffffff</th>\n",
       "      <th>r_86264d187ffffff</th>\n",
       "      <th>r_86264d1a7ffffff</th>\n",
       "      <th>r_86264dc67ffffff</th>\n",
       "      <th>r_86264dc77ffffff</th>\n",
       "      <th>r_86264dd5fffffff</th>\n",
       "    </tr>\n",
       "  </thead>\n",
       "  <tbody>\n",
       "    <tr>\n",
       "      <td>0</td>\n",
       "      <td>2019-12-03 02:41:41</td>\n",
       "      <td>7</td>\n",
       "      <td>1.0</td>\n",
       "      <td>0.000000</td>\n",
       "      <td>0.000000</td>\n",
       "      <td>0.000000</td>\n",
       "      <td>0.000000</td>\n",
       "      <td>0.000000</td>\n",
       "      <td>0.0</td>\n",
       "      <td>0.0</td>\n",
       "      <td>...</td>\n",
       "      <td>0.0</td>\n",
       "      <td>0.0</td>\n",
       "      <td>0.0</td>\n",
       "      <td>0.0</td>\n",
       "      <td>0.0</td>\n",
       "      <td>0.0</td>\n",
       "      <td>0.0</td>\n",
       "      <td>0.0</td>\n",
       "      <td>0.0</td>\n",
       "      <td>0.0</td>\n",
       "    </tr>\n",
       "    <tr>\n",
       "      <td>1</td>\n",
       "      <td>2019-12-03 14:49:24</td>\n",
       "      <td>5</td>\n",
       "      <td>0.0</td>\n",
       "      <td>0.072373</td>\n",
       "      <td>0.382160</td>\n",
       "      <td>0.545467</td>\n",
       "      <td>0.000000</td>\n",
       "      <td>0.000000</td>\n",
       "      <td>0.0</td>\n",
       "      <td>0.0</td>\n",
       "      <td>...</td>\n",
       "      <td>0.0</td>\n",
       "      <td>0.0</td>\n",
       "      <td>0.0</td>\n",
       "      <td>0.0</td>\n",
       "      <td>0.0</td>\n",
       "      <td>0.0</td>\n",
       "      <td>0.0</td>\n",
       "      <td>0.0</td>\n",
       "      <td>0.0</td>\n",
       "      <td>0.0</td>\n",
       "    </tr>\n",
       "    <tr>\n",
       "      <td>2</td>\n",
       "      <td>2019-12-03 14:46:04</td>\n",
       "      <td>10</td>\n",
       "      <td>0.0</td>\n",
       "      <td>0.000000</td>\n",
       "      <td>0.000000</td>\n",
       "      <td>0.152059</td>\n",
       "      <td>0.808363</td>\n",
       "      <td>0.039578</td>\n",
       "      <td>0.0</td>\n",
       "      <td>0.0</td>\n",
       "      <td>...</td>\n",
       "      <td>0.0</td>\n",
       "      <td>0.0</td>\n",
       "      <td>0.0</td>\n",
       "      <td>0.0</td>\n",
       "      <td>0.0</td>\n",
       "      <td>0.0</td>\n",
       "      <td>0.0</td>\n",
       "      <td>0.0</td>\n",
       "      <td>0.0</td>\n",
       "      <td>0.0</td>\n",
       "    </tr>\n",
       "    <tr>\n",
       "      <td>3</td>\n",
       "      <td>2019-12-03 14:38:57</td>\n",
       "      <td>5</td>\n",
       "      <td>0.0</td>\n",
       "      <td>0.115842</td>\n",
       "      <td>0.401464</td>\n",
       "      <td>0.482694</td>\n",
       "      <td>0.000000</td>\n",
       "      <td>0.000000</td>\n",
       "      <td>0.0</td>\n",
       "      <td>0.0</td>\n",
       "      <td>...</td>\n",
       "      <td>0.0</td>\n",
       "      <td>0.0</td>\n",
       "      <td>0.0</td>\n",
       "      <td>0.0</td>\n",
       "      <td>0.0</td>\n",
       "      <td>0.0</td>\n",
       "      <td>0.0</td>\n",
       "      <td>0.0</td>\n",
       "      <td>0.0</td>\n",
       "      <td>0.0</td>\n",
       "    </tr>\n",
       "    <tr>\n",
       "      <td>4</td>\n",
       "      <td>2019-12-03 14:34:57</td>\n",
       "      <td>10</td>\n",
       "      <td>0.0</td>\n",
       "      <td>0.012711</td>\n",
       "      <td>0.324826</td>\n",
       "      <td>0.662463</td>\n",
       "      <td>0.000000</td>\n",
       "      <td>0.000000</td>\n",
       "      <td>0.0</td>\n",
       "      <td>0.0</td>\n",
       "      <td>...</td>\n",
       "      <td>0.0</td>\n",
       "      <td>0.0</td>\n",
       "      <td>0.0</td>\n",
       "      <td>0.0</td>\n",
       "      <td>0.0</td>\n",
       "      <td>0.0</td>\n",
       "      <td>0.0</td>\n",
       "      <td>0.0</td>\n",
       "      <td>0.0</td>\n",
       "      <td>0.0</td>\n",
       "    </tr>\n",
       "  </tbody>\n",
       "</table>\n",
       "<p>5 rows × 26 columns</p>\n",
       "</div>"
      ],
      "text/plain": [
       "                 time  reliability  r_86264d8dfffffff  r_86264d157ffffff  \\\n",
       "0 2019-12-03 02:41:41            7                1.0           0.000000   \n",
       "1 2019-12-03 14:49:24            5                0.0           0.072373   \n",
       "2 2019-12-03 14:46:04           10                0.0           0.000000   \n",
       "3 2019-12-03 14:38:57            5                0.0           0.115842   \n",
       "4 2019-12-03 14:34:57           10                0.0           0.012711   \n",
       "\n",
       "   r_86264d177ffffff  r_86264d10fffffff  r_86264d11fffffff  r_86264d107ffffff  \\\n",
       "0           0.000000           0.000000           0.000000           0.000000   \n",
       "1           0.382160           0.545467           0.000000           0.000000   \n",
       "2           0.000000           0.152059           0.808363           0.039578   \n",
       "3           0.401464           0.482694           0.000000           0.000000   \n",
       "4           0.324826           0.662463           0.000000           0.000000   \n",
       "\n",
       "   r_86264d117ffffff  r_86264d137ffffff  ...  r_86264d887ffffff  \\\n",
       "0                0.0                0.0  ...                0.0   \n",
       "1                0.0                0.0  ...                0.0   \n",
       "2                0.0                0.0  ...                0.0   \n",
       "3                0.0                0.0  ...                0.0   \n",
       "4                0.0                0.0  ...                0.0   \n",
       "\n",
       "   r_86264d897ffffff  r_86264d147ffffff  r_86264d8a7ffffff  r_86264d8c7ffffff  \\\n",
       "0                0.0                0.0                0.0                0.0   \n",
       "1                0.0                0.0                0.0                0.0   \n",
       "2                0.0                0.0                0.0                0.0   \n",
       "3                0.0                0.0                0.0                0.0   \n",
       "4                0.0                0.0                0.0                0.0   \n",
       "\n",
       "   r_86264d187ffffff  r_86264d1a7ffffff  r_86264dc67ffffff  r_86264dc77ffffff  \\\n",
       "0                0.0                0.0                0.0                0.0   \n",
       "1                0.0                0.0                0.0                0.0   \n",
       "2                0.0                0.0                0.0                0.0   \n",
       "3                0.0                0.0                0.0                0.0   \n",
       "4                0.0                0.0                0.0                0.0   \n",
       "\n",
       "   r_86264dd5fffffff  \n",
       "0                0.0  \n",
       "1                0.0  \n",
       "2                0.0  \n",
       "3                0.0  \n",
       "4                0.0  \n",
       "\n",
       "[5 rows x 26 columns]"
      ]
     },
     "execution_count": 4,
     "metadata": {},
     "output_type": "execute_result"
    }
   ],
   "source": [
    "records.head()"
   ]
  },
  {
   "cell_type": "code",
   "execution_count": 5,
   "metadata": {},
   "outputs": [
    {
     "data": {
      "text/plain": [
       "(array([ 5,  6,  7,  8,  9, 10]), array([1447, 1038,  782,  603,  509, 1782]))"
      ]
     },
     "execution_count": 5,
     "metadata": {},
     "output_type": "execute_result"
    }
   ],
   "source": [
    "np.unique(records.reliability, return_counts=True)"
   ]
  },
  {
   "cell_type": "code",
   "execution_count": 6,
   "metadata": {},
   "outputs": [],
   "source": [
    "labels.loc[:, 'region'] = labels.hex6.apply(lambda x: 'r_' + x)"
   ]
  },
  {
   "cell_type": "markdown",
   "metadata": {},
   "source": [
    "### Incident Time Intervel\n",
    "\n",
    "- Definition: The average time taken for the arrival of first waze repot to the last waze report"
   ]
  },
  {
   "cell_type": "code",
   "execution_count": 7,
   "metadata": {},
   "outputs": [
    {
     "data": {
      "text/html": [
       "<div>\n",
       "<style scoped>\n",
       "    .dataframe tbody tr th:only-of-type {\n",
       "        vertical-align: middle;\n",
       "    }\n",
       "\n",
       "    .dataframe tbody tr th {\n",
       "        vertical-align: top;\n",
       "    }\n",
       "\n",
       "    .dataframe thead th {\n",
       "        text-align: right;\n",
       "    }\n",
       "</style>\n",
       "<table border=\"1\" class=\"dataframe\">\n",
       "  <thead>\n",
       "    <tr style=\"text-align: right;\">\n",
       "      <th></th>\n",
       "      <th>segment_id</th>\n",
       "      <th>time</th>\n",
       "      <th>lat</th>\n",
       "      <th>lng</th>\n",
       "      <th>timestamp</th>\n",
       "      <th>count</th>\n",
       "      <th>hex6</th>\n",
       "      <th>region</th>\n",
       "    </tr>\n",
       "  </thead>\n",
       "  <tbody>\n",
       "    <tr>\n",
       "      <td>8</td>\n",
       "      <td>75</td>\n",
       "      <td>2019-12-19 16:06:00</td>\n",
       "      <td>36.33891</td>\n",
       "      <td>-86.91617</td>\n",
       "      <td>1.576772e+09</td>\n",
       "      <td>1</td>\n",
       "      <td>86264dc77ffffff</td>\n",
       "      <td>r_86264dc77ffffff</td>\n",
       "    </tr>\n",
       "    <tr>\n",
       "      <td>9</td>\n",
       "      <td>75</td>\n",
       "      <td>2019-12-08 20:18:00</td>\n",
       "      <td>36.33207</td>\n",
       "      <td>-86.90093</td>\n",
       "      <td>1.575836e+09</td>\n",
       "      <td>1</td>\n",
       "      <td>86264dd5fffffff</td>\n",
       "      <td>r_86264dd5fffffff</td>\n",
       "    </tr>\n",
       "    <tr>\n",
       "      <td>10</td>\n",
       "      <td>75</td>\n",
       "      <td>2019-12-08 22:45:00</td>\n",
       "      <td>36.33152</td>\n",
       "      <td>-86.90128</td>\n",
       "      <td>1.575845e+09</td>\n",
       "      <td>1</td>\n",
       "      <td>86264dd5fffffff</td>\n",
       "      <td>r_86264dd5fffffff</td>\n",
       "    </tr>\n",
       "    <tr>\n",
       "      <td>11</td>\n",
       "      <td>75</td>\n",
       "      <td>2019-12-09 13:04:00</td>\n",
       "      <td>36.33891</td>\n",
       "      <td>-86.91617</td>\n",
       "      <td>1.575897e+09</td>\n",
       "      <td>1</td>\n",
       "      <td>86264dc77ffffff</td>\n",
       "      <td>r_86264dc77ffffff</td>\n",
       "    </tr>\n",
       "    <tr>\n",
       "      <td>34</td>\n",
       "      <td>78</td>\n",
       "      <td>2019-12-15 20:01:00</td>\n",
       "      <td>36.32500</td>\n",
       "      <td>-86.87300</td>\n",
       "      <td>1.576440e+09</td>\n",
       "      <td>1</td>\n",
       "      <td>86264dc67ffffff</td>\n",
       "      <td>r_86264dc67ffffff</td>\n",
       "    </tr>\n",
       "  </tbody>\n",
       "</table>\n",
       "</div>"
      ],
      "text/plain": [
       "    segment_id                time       lat       lng     timestamp  count  \\\n",
       "8           75 2019-12-19 16:06:00  36.33891 -86.91617  1.576772e+09      1   \n",
       "9           75 2019-12-08 20:18:00  36.33207 -86.90093  1.575836e+09      1   \n",
       "10          75 2019-12-08 22:45:00  36.33152 -86.90128  1.575845e+09      1   \n",
       "11          75 2019-12-09 13:04:00  36.33891 -86.91617  1.575897e+09      1   \n",
       "34          78 2019-12-15 20:01:00  36.32500 -86.87300  1.576440e+09      1   \n",
       "\n",
       "               hex6             region  \n",
       "8   86264dc77ffffff  r_86264dc77ffffff  \n",
       "9   86264dd5fffffff  r_86264dd5fffffff  \n",
       "10  86264dd5fffffff  r_86264dd5fffffff  \n",
       "11  86264dc77ffffff  r_86264dc77ffffff  \n",
       "34  86264dc67ffffff  r_86264dc67ffffff  "
      ]
     },
     "execution_count": 7,
     "metadata": {},
     "output_type": "execute_result"
    }
   ],
   "source": [
    "labels.head()"
   ]
  },
  {
   "cell_type": "code",
   "execution_count": 8,
   "metadata": {
    "scrolled": false
   },
   "outputs": [
    {
     "data": {
      "text/plain": [
       "<matplotlib.axes._subplots.AxesSubplot at 0x11e916710>"
      ]
     },
     "execution_count": 8,
     "metadata": {},
     "output_type": "execute_result"
    },
    {
     "data": {
      "image/png": "[encoded data removed]",
      "text/plain": [
       "<Figure size 432x288 with 1 Axes>"
      ]
     },
     "metadata": {
      "needs_background": "light"
     },
     "output_type": "display_data"
    }
   ],
   "source": [
    "# calculate the time difference between two consecative incidents in same region\n",
    "consec_inc_td = []\n",
    "\n",
    "for region in labels.hex6.unique():\n",
    "    time = labels[labels.hex6 == region].sort_values('time').time.diff().dropna().astype('timedelta64[m]')\n",
    "    consec_inc_td += time[time.notnull()].tolist()\n",
    "    \n",
    "consec_inc_td_df = pd.Series(consec_inc_td).sort_values()\n",
    "\n",
    "consec_inc_td_df[consec_inc_td_df < 120].plot.hist(bins=15, alpha=0.8)"
   ]
  },
  {
   "cell_type": "code",
   "execution_count": 9,
   "metadata": {},
   "outputs": [],
   "source": [
    "# T' calculation\n",
    "\n",
    "number_of_reports = []\n",
    "\n",
    "pre_dt = timedelta(minutes=60)\n",
    "\n",
    "for region in labels.hex6.unique():\n",
    "    region_df = labels[labels.hex6 == region]\n",
    "    col = 'r_' + region\n",
    "    if col in records:\n",
    "        records_after = records.loc[records[col] > 0, ['time', 'reliability', col]]\n",
    "        for incident_time in region_df.time.sort_values():\n",
    "            records_before = records_after[((incident_time - pre_dt) <= records_after.time) & (records_after.time <= incident_time)]\n",
    "            time_intervels = (incident_time - records_before.sort_values('time').time).astype('timedelta64[m]')\n",
    "            number_of_reports += time_intervels.tolist()\n",
    "            records_after = records_after[records_after.time > incident_time]\n",
    "            \n",
    "number_of_reports_df = pd.DataFrame(number_of_reports)"
   ]
  },
  {
   "cell_type": "code",
   "execution_count": 10,
   "metadata": {
    "scrolled": true
   },
   "outputs": [
    {
     "data": {
      "text/plain": [
       "nan"
      ]
     },
     "execution_count": 10,
     "metadata": {},
     "output_type": "execute_result"
    }
   ],
   "source": [
    "# on average incident time is -- assuming all incidents are recorded the day of happening\n",
    "\n",
    "np.average(number_of_reports_df[number_of_reports_df < 24])"
   ]
  },
  {
   "cell_type": "code",
   "execution_count": 11,
   "metadata": {},
   "outputs": [
    {
     "data": {
      "text/plain": [
       "<matplotlib.axes._subplots.AxesSubplot at 0x11fa0fc90>"
      ]
     },
     "execution_count": 11,
     "metadata": {},
     "output_type": "execute_result"
    },
    {
     "data": {
      "image/png": "[encoded data removed]",
      "text/plain": [
       "<Figure size 432x288 with 1 Axes>"
      ]
     },
     "metadata": {
      "needs_background": "light"
     },
     "output_type": "display_data"
    }
   ],
   "source": [
    "number_of_reports_df = pd.Series(number_of_reports).sort_values()\n",
    "\n",
    "number_of_reports_df[number_of_reports_df < 24].plot.hist(bins=24, alpha=0.8, label='Time')"
   ]
  },
  {
   "cell_type": "code",
   "execution_count": 12,
   "metadata": {},
   "outputs": [
    {
     "data": {
      "text/html": [
       "<div>\n",
       "<style scoped>\n",
       "    .dataframe tbody tr th:only-of-type {\n",
       "        vertical-align: middle;\n",
       "    }\n",
       "\n",
       "    .dataframe tbody tr th {\n",
       "        vertical-align: top;\n",
       "    }\n",
       "\n",
       "    .dataframe thead th {\n",
       "        text-align: right;\n",
       "    }\n",
       "</style>\n",
       "<table border=\"1\" class=\"dataframe\">\n",
       "  <thead>\n",
       "    <tr style=\"text-align: right;\">\n",
       "      <th></th>\n",
       "      <th>segment_id</th>\n",
       "      <th>time</th>\n",
       "      <th>lat</th>\n",
       "      <th>lng</th>\n",
       "      <th>timestamp</th>\n",
       "      <th>count</th>\n",
       "      <th>hex6</th>\n",
       "      <th>region</th>\n",
       "    </tr>\n",
       "  </thead>\n",
       "  <tbody>\n",
       "    <tr>\n",
       "      <td>8</td>\n",
       "      <td>75</td>\n",
       "      <td>2019-12-19 16:06:00</td>\n",
       "      <td>36.33891</td>\n",
       "      <td>-86.91617</td>\n",
       "      <td>1.576772e+09</td>\n",
       "      <td>1</td>\n",
       "      <td>86264dc77ffffff</td>\n",
       "      <td>r_86264dc77ffffff</td>\n",
       "    </tr>\n",
       "    <tr>\n",
       "      <td>9</td>\n",
       "      <td>75</td>\n",
       "      <td>2019-12-08 20:18:00</td>\n",
       "      <td>36.33207</td>\n",
       "      <td>-86.90093</td>\n",
       "      <td>1.575836e+09</td>\n",
       "      <td>1</td>\n",
       "      <td>86264dd5fffffff</td>\n",
       "      <td>r_86264dd5fffffff</td>\n",
       "    </tr>\n",
       "    <tr>\n",
       "      <td>10</td>\n",
       "      <td>75</td>\n",
       "      <td>2019-12-08 22:45:00</td>\n",
       "      <td>36.33152</td>\n",
       "      <td>-86.90128</td>\n",
       "      <td>1.575845e+09</td>\n",
       "      <td>1</td>\n",
       "      <td>86264dd5fffffff</td>\n",
       "      <td>r_86264dd5fffffff</td>\n",
       "    </tr>\n",
       "    <tr>\n",
       "      <td>11</td>\n",
       "      <td>75</td>\n",
       "      <td>2019-12-09 13:04:00</td>\n",
       "      <td>36.33891</td>\n",
       "      <td>-86.91617</td>\n",
       "      <td>1.575897e+09</td>\n",
       "      <td>1</td>\n",
       "      <td>86264dc77ffffff</td>\n",
       "      <td>r_86264dc77ffffff</td>\n",
       "    </tr>\n",
       "    <tr>\n",
       "      <td>34</td>\n",
       "      <td>78</td>\n",
       "      <td>2019-12-15 20:01:00</td>\n",
       "      <td>36.32500</td>\n",
       "      <td>-86.87300</td>\n",
       "      <td>1.576440e+09</td>\n",
       "      <td>1</td>\n",
       "      <td>86264dc67ffffff</td>\n",
       "      <td>r_86264dc67ffffff</td>\n",
       "    </tr>\n",
       "    <tr>\n",
       "      <td>...</td>\n",
       "      <td>...</td>\n",
       "      <td>...</td>\n",
       "      <td>...</td>\n",
       "      <td>...</td>\n",
       "      <td>...</td>\n",
       "      <td>...</td>\n",
       "      <td>...</td>\n",
       "      <td>...</td>\n",
       "    </tr>\n",
       "    <tr>\n",
       "      <td>6921</td>\n",
       "      <td>2922</td>\n",
       "      <td>2019-12-30 14:00:00</td>\n",
       "      <td>36.12500</td>\n",
       "      <td>-86.73495</td>\n",
       "      <td>1.577714e+09</td>\n",
       "      <td>1</td>\n",
       "      <td>86264d10fffffff</td>\n",
       "      <td>r_86264d10fffffff</td>\n",
       "    </tr>\n",
       "    <tr>\n",
       "      <td>6922</td>\n",
       "      <td>2922</td>\n",
       "      <td>2019-12-04 16:47:00</td>\n",
       "      <td>36.12430</td>\n",
       "      <td>-86.74385</td>\n",
       "      <td>1.575478e+09</td>\n",
       "      <td>1</td>\n",
       "      <td>86264d10fffffff</td>\n",
       "      <td>r_86264d10fffffff</td>\n",
       "    </tr>\n",
       "    <tr>\n",
       "      <td>6923</td>\n",
       "      <td>2922</td>\n",
       "      <td>2019-12-04 19:15:00</td>\n",
       "      <td>36.12435</td>\n",
       "      <td>-86.74214</td>\n",
       "      <td>1.575487e+09</td>\n",
       "      <td>1</td>\n",
       "      <td>86264d10fffffff</td>\n",
       "      <td>r_86264d10fffffff</td>\n",
       "    </tr>\n",
       "    <tr>\n",
       "      <td>6924</td>\n",
       "      <td>2922</td>\n",
       "      <td>2019-12-09 23:27:00</td>\n",
       "      <td>36.12434</td>\n",
       "      <td>-86.74273</td>\n",
       "      <td>1.575934e+09</td>\n",
       "      <td>1</td>\n",
       "      <td>86264d10fffffff</td>\n",
       "      <td>r_86264d10fffffff</td>\n",
       "    </tr>\n",
       "    <tr>\n",
       "      <td>6956</td>\n",
       "      <td>2924</td>\n",
       "      <td>2019-12-13 15:59:00</td>\n",
       "      <td>36.12613</td>\n",
       "      <td>-86.73117</td>\n",
       "      <td>1.576253e+09</td>\n",
       "      <td>1</td>\n",
       "      <td>86264d10fffffff</td>\n",
       "      <td>r_86264d10fffffff</td>\n",
       "    </tr>\n",
       "  </tbody>\n",
       "</table>\n",
       "<p>818 rows × 8 columns</p>\n",
       "</div>"
      ],
      "text/plain": [
       "      segment_id                time       lat       lng     timestamp  count  \\\n",
       "8             75 2019-12-19 16:06:00  36.33891 -86.91617  1.576772e+09      1   \n",
       "9             75 2019-12-08 20:18:00  36.33207 -86.90093  1.575836e+09      1   \n",
       "10            75 2019-12-08 22:45:00  36.33152 -86.90128  1.575845e+09      1   \n",
       "11            75 2019-12-09 13:04:00  36.33891 -86.91617  1.575897e+09      1   \n",
       "34            78 2019-12-15 20:01:00  36.32500 -86.87300  1.576440e+09      1   \n",
       "...          ...                 ...       ...       ...           ...    ...   \n",
       "6921        2922 2019-12-30 14:00:00  36.12500 -86.73495  1.577714e+09      1   \n",
       "6922        2922 2019-12-04 16:47:00  36.12430 -86.74385  1.575478e+09      1   \n",
       "6923        2922 2019-12-04 19:15:00  36.12435 -86.74214  1.575487e+09      1   \n",
       "6924        2922 2019-12-09 23:27:00  36.12434 -86.74273  1.575934e+09      1   \n",
       "6956        2924 2019-12-13 15:59:00  36.12613 -86.73117  1.576253e+09      1   \n",
       "\n",
       "                 hex6             region  \n",
       "8     86264dc77ffffff  r_86264dc77ffffff  \n",
       "9     86264dd5fffffff  r_86264dd5fffffff  \n",
       "10    86264dd5fffffff  r_86264dd5fffffff  \n",
       "11    86264dc77ffffff  r_86264dc77ffffff  \n",
       "34    86264dc67ffffff  r_86264dc67ffffff  \n",
       "...               ...                ...  \n",
       "6921  86264d10fffffff  r_86264d10fffffff  \n",
       "6922  86264d10fffffff  r_86264d10fffffff  \n",
       "6923  86264d10fffffff  r_86264d10fffffff  \n",
       "6924  86264d10fffffff  r_86264d10fffffff  \n",
       "6956  86264d10fffffff  r_86264d10fffffff  \n",
       "\n",
       "[818 rows x 8 columns]"
      ]
     },
     "execution_count": 12,
     "metadata": {},
     "output_type": "execute_result"
    }
   ],
   "source": [
    "labels"
   ]
  },
  {
   "cell_type": "markdown",
   "metadata": {},
   "source": [
    "### Estimate posterior probabilities every 5 min (keep doing this up to T' min)"
   ]
  },
  {
   "cell_type": "code",
   "execution_count": 44,
   "metadata": {},
   "outputs": [
    {
     "data": {
      "text/plain": [
       "['r_86264d027ffffff',\n",
       " 'r_86264d107ffffff',\n",
       " 'r_86264d11fffffff',\n",
       " 'r_86264d12fffffff',\n",
       " 'r_86264d157ffffff',\n",
       " 'r_86264d177ffffff']"
      ]
     },
     "execution_count": 44,
     "metadata": {},
     "output_type": "execute_result"
    }
   ],
   "source": [
    "def h3_get_neighbors(region):\n",
    "    if region.startswith('r_'):\n",
    "        region = region[2:]\n",
    "    return [x for x in np.unique(labels.region) if h3.h3_indexes_are_neighbors(region, x[2:])]\n",
    "        \n",
    "h3_get_neighbors('86264d10fffffff')"
   ]
  },
  {
   "cell_type": "code",
   "execution_count": 45,
   "metadata": {},
   "outputs": [],
   "source": [
    "# change to historical data values\n",
    "# P(I=1,R1)\n",
    "def region_prior(region, time):\n",
    "    # use labels_prv to prevent overfitting\n",
    "    # return 1 / len(np.unique(labels.region))\n",
    "    # return np.sum((labels.region == region) & (time.hour == labels.time.dt.hour)) / len(labels)\n",
    "    return np.sum(labels.region == region) / len(labels)\n",
    "    \n",
    "# np.sum([region_prior(r, 0) for r in np.unique(labels.region)])"
   ]
  },
  {
   "cell_type": "code",
   "execution_count": 46,
   "metadata": {},
   "outputs": [],
   "source": [
    "def p(r):\n",
    "    return r / 10"
   ]
  },
  {
   "cell_type": "code",
   "execution_count": 47,
   "metadata": {},
   "outputs": [],
   "source": [
    "def calculate_likelihood(m):\n",
    "    c = m.reliability.apply(p)\n",
    "    m.drop('reliability', axis=1, inplace=True)\n",
    "    if m.shape[0] == 0:\n",
    "        m.loc[0], c = np.zeros(m.shape[1]), 0\n",
    "    return (m.T * c).T.prod(axis=0)"
   ]
  },
  {
   "cell_type": "code",
   "execution_count": 48,
   "metadata": {},
   "outputs": [],
   "source": [
    "def calculate_posterior(df, r, time_step=5):\n",
    "    time_steps_records = df.set_index('time').resample(f'{time_step}T')\n",
    "    # Matrix - containes total likelihood\n",
    "    matrix = time_steps_records.apply(calculate_likelihood)\n",
    "    # Find likelihood, prior for first time period\n",
    "    likelihood = matrix.iloc[0, :]\n",
    "    prior = np.array([region_prior(c, matrix.index[0]) for c in matrix])\n",
    "    # Calcualate prior for I = 0 for first time period\n",
    "    p_0 = (1 - np.sum(prior))\n",
    "    # Calcualate likelihood for I = 0 for all periods using reliability of waze reports prod(1-p)\n",
    "    l_0 = time_steps_records.apply(lambda m: (1 - m.reliability.apply(p)).prod())\n",
    "    denom = np.sum(likelihood * prior) + l_0[0] * p_0\n",
    "    # For each time step calculate posterior (start with zero row - special case) \n",
    "    # matrix - containes posteriors [partly]   \n",
    "    matrix.iloc[0, :] = likelihood * prior / denom\n",
    "    p_0 = l_0[0] * p_0 / denom\n",
    "    return_row = [True for _ in range(matrix.shape[0])]\n",
    "    for ridx in range(1, matrix.shape[0]):\n",
    "        prior = matrix.iloc[ridx - 1, :]\n",
    "        likelihood = matrix.iloc[ridx, :]\n",
    "        if np.sum(likelihood) == 0:\n",
    "            matrix.iloc[ridx, :] = prior\n",
    "            return_row[ridx] = False\n",
    "            continue\n",
    "        # Calculate denominator of posterior\n",
    "        denom = np.sum(likelihood * prior) + l_0[ridx] * p_0\n",
    "        # Calculate posterior\n",
    "        matrix.iloc[ridx, :] = likelihood * prior / denom\n",
    "        p_0 = l_0[ridx] * p_0 / denom\n",
    "    # Return posteriors\n",
    "    return matrix[return_row].index, matrix[return_row].loc[:, r]"
   ]
  },
  {
   "cell_type": "code",
   "execution_count": 84,
   "metadata": {
    "scrolled": true
   },
   "outputs": [
    {
     "name": "stderr",
     "output_type": "stream",
     "text": [
      " 19%|█▉        | 5/26 [00:10<00:43,  2.07s/it]\n"
     ]
    },
    {
     "ename": "SystemError",
     "evalue": "<built-in function is_scalar> returned a result with an error set",
     "output_type": "error",
     "traceback": [
      "\u001b[0;31m---------------------------------------------------------------------------\u001b[0m",
      "\u001b[0;31mKeyboardInterrupt\u001b[0m                         Traceback (most recent call last)",
      "\u001b[0;32m/opt/anaconda3/lib/python3.7/abc.py\u001b[0m in \u001b[0;36m__instancecheck__\u001b[0;34m(cls, instance)\u001b[0m\n\u001b[1;32m    136\u001b[0m \u001b[0;34m\u001b[0m\u001b[0m\n\u001b[0;32m--> 137\u001b[0;31m         \u001b[0;32mdef\u001b[0m \u001b[0m__instancecheck__\u001b[0m\u001b[0;34m(\u001b[0m\u001b[0mcls\u001b[0m\u001b[0;34m,\u001b[0m \u001b[0minstance\u001b[0m\u001b[0;34m)\u001b[0m\u001b[0;34m:\u001b[0m\u001b[0;34m\u001b[0m\u001b[0;34m\u001b[0m\u001b[0m\n\u001b[0m\u001b[1;32m    138\u001b[0m             \u001b[0;34m\"\"\"Override for isinstance(instance, cls).\"\"\"\u001b[0m\u001b[0;34m\u001b[0m\u001b[0;34m\u001b[0m\u001b[0m\n",
      "\u001b[0;31mKeyboardInterrupt\u001b[0m: ",
      "\nThe above exception was the direct cause of the following exception:\n",
      "\u001b[0;31mSystemError\u001b[0m                               Traceback (most recent call last)",
      "\u001b[0;32m<ipython-input-84-c10278e87b02>\u001b[0m in \u001b[0;36m<module>\u001b[0;34m\u001b[0m\n\u001b[1;32m     27\u001b[0m     \u001b[0;32mreturn\u001b[0m \u001b[0mpd\u001b[0m\u001b[0;34m.\u001b[0m\u001b[0mDataFrame\u001b[0m\u001b[0;34m(\u001b[0m\u001b[0mfeatures\u001b[0m\u001b[0;34m)\u001b[0m\u001b[0;34m\u001b[0m\u001b[0;34m\u001b[0m\u001b[0m\n\u001b[1;32m     28\u001b[0m \u001b[0;34m\u001b[0m\u001b[0m\n\u001b[0;32m---> 29\u001b[0;31m \u001b[0mfeatures\u001b[0m \u001b[0;34m=\u001b[0m \u001b[0mincident_posterior\u001b[0m\u001b[0;34m(\u001b[0m\u001b[0mrecords\u001b[0m\u001b[0;34m)\u001b[0m\u001b[0;34m\u001b[0m\u001b[0;34m\u001b[0m\u001b[0m\n\u001b[0m\u001b[1;32m     30\u001b[0m \u001b[0;34m\u001b[0m\u001b[0m\n\u001b[1;32m     31\u001b[0m \u001b[0mfeatures\u001b[0m\u001b[0;34m.\u001b[0m\u001b[0mhead\u001b[0m\u001b[0;34m(\u001b[0m\u001b[0;34m)\u001b[0m\u001b[0;34m\u001b[0m\u001b[0;34m\u001b[0m\u001b[0m\n",
      "\u001b[0;32m<ipython-input-84-c10278e87b02>\u001b[0m in \u001b[0;36mincident_posterior\u001b[0;34m(df, incident_interval)\u001b[0m\n\u001b[1;32m     11\u001b[0m             \u001b[0;32mwhile\u001b[0m \u001b[0mincident_time\u001b[0m \u001b[0;34m<=\u001b[0m \u001b[0mnp\u001b[0m\u001b[0;34m.\u001b[0m\u001b[0mmax\u001b[0m\u001b[0;34m(\u001b[0m\u001b[0mdf_region\u001b[0m\u001b[0;34m.\u001b[0m\u001b[0mtime\u001b[0m\u001b[0;34m)\u001b[0m\u001b[0;34m:\u001b[0m\u001b[0;34m\u001b[0m\u001b[0;34m\u001b[0m\u001b[0m\n\u001b[1;32m     12\u001b[0m                 \u001b[0mincident_records\u001b[0m \u001b[0;34m=\u001b[0m \u001b[0mdf_region\u001b[0m\u001b[0;34m[\u001b[0m\u001b[0;34m(\u001b[0m\u001b[0mincident_time\u001b[0m \u001b[0;34m<=\u001b[0m \u001b[0mdf_region\u001b[0m\u001b[0;34m.\u001b[0m\u001b[0mtime\u001b[0m\u001b[0;34m)\u001b[0m \u001b[0;34m&\u001b[0m \u001b[0;34m(\u001b[0m\u001b[0mdf_region\u001b[0m\u001b[0;34m.\u001b[0m\u001b[0mtime\u001b[0m \u001b[0;34m<\u001b[0m \u001b[0;34m(\u001b[0m\u001b[0mincident_time\u001b[0m \u001b[0;34m+\u001b[0m \u001b[0mincident_interval\u001b[0m\u001b[0;34m)\u001b[0m\u001b[0;34m)\u001b[0m\u001b[0;34m]\u001b[0m\u001b[0;34m\u001b[0m\u001b[0;34m\u001b[0m\u001b[0m\n\u001b[0;32m---> 13\u001b[0;31m                 \u001b[0mtime_steps\u001b[0m\u001b[0;34m,\u001b[0m \u001b[0mposterior_probs\u001b[0m \u001b[0;34m=\u001b[0m \u001b[0mcalculate_posterior\u001b[0m\u001b[0;34m(\u001b[0m\u001b[0mincident_records\u001b[0m\u001b[0;34m,\u001b[0m \u001b[0mcol\u001b[0m\u001b[0;34m)\u001b[0m\u001b[0;34m\u001b[0m\u001b[0;34m\u001b[0m\u001b[0m\n\u001b[0m\u001b[1;32m     14\u001b[0m                 \u001b[0mfeatures_temp\u001b[0m \u001b[0;34m=\u001b[0m \u001b[0;34m[\u001b[0m\u001b[0;34m]\u001b[0m\u001b[0;34m\u001b[0m\u001b[0;34m\u001b[0m\u001b[0m\n\u001b[1;32m     15\u001b[0m                 \u001b[0;32mfor\u001b[0m \u001b[0mtime_step\u001b[0m\u001b[0;34m,\u001b[0m \u001b[0mposterior_proba\u001b[0m \u001b[0;32min\u001b[0m \u001b[0mzip\u001b[0m\u001b[0;34m(\u001b[0m\u001b[0mtime_steps\u001b[0m\u001b[0;34m,\u001b[0m \u001b[0mposterior_probs\u001b[0m\u001b[0;34m)\u001b[0m\u001b[0;34m:\u001b[0m\u001b[0;34m\u001b[0m\u001b[0;34m\u001b[0m\u001b[0m\n",
      "\u001b[0;32m<ipython-input-48-a5821d288c4c>\u001b[0m in \u001b[0;36mcalculate_posterior\u001b[0;34m(df, r, time_step)\u001b[0m\n\u001b[1;32m     17\u001b[0m     \u001b[0mreturn_row\u001b[0m \u001b[0;34m=\u001b[0m \u001b[0;34m[\u001b[0m\u001b[0;32mTrue\u001b[0m \u001b[0;32mfor\u001b[0m \u001b[0m_\u001b[0m \u001b[0;32min\u001b[0m \u001b[0mrange\u001b[0m\u001b[0;34m(\u001b[0m\u001b[0mmatrix\u001b[0m\u001b[0;34m.\u001b[0m\u001b[0mshape\u001b[0m\u001b[0;34m[\u001b[0m\u001b[0;36m0\u001b[0m\u001b[0;34m]\u001b[0m\u001b[0;34m)\u001b[0m\u001b[0;34m]\u001b[0m\u001b[0;34m\u001b[0m\u001b[0;34m\u001b[0m\u001b[0m\n\u001b[1;32m     18\u001b[0m     \u001b[0;32mfor\u001b[0m \u001b[0mridx\u001b[0m \u001b[0;32min\u001b[0m \u001b[0mrange\u001b[0m\u001b[0;34m(\u001b[0m\u001b[0;36m1\u001b[0m\u001b[0;34m,\u001b[0m \u001b[0mmatrix\u001b[0m\u001b[0;34m.\u001b[0m\u001b[0mshape\u001b[0m\u001b[0;34m[\u001b[0m\u001b[0;36m0\u001b[0m\u001b[0;34m]\u001b[0m\u001b[0;34m)\u001b[0m\u001b[0;34m:\u001b[0m\u001b[0;34m\u001b[0m\u001b[0;34m\u001b[0m\u001b[0m\n\u001b[0;32m---> 19\u001b[0;31m         \u001b[0mprior\u001b[0m \u001b[0;34m=\u001b[0m \u001b[0mmatrix\u001b[0m\u001b[0;34m.\u001b[0m\u001b[0miloc\u001b[0m\u001b[0;34m[\u001b[0m\u001b[0mridx\u001b[0m \u001b[0;34m-\u001b[0m \u001b[0;36m1\u001b[0m\u001b[0;34m,\u001b[0m \u001b[0;34m:\u001b[0m\u001b[0;34m]\u001b[0m\u001b[0;34m\u001b[0m\u001b[0;34m\u001b[0m\u001b[0m\n\u001b[0m\u001b[1;32m     20\u001b[0m         \u001b[0mlikelihood\u001b[0m \u001b[0;34m=\u001b[0m \u001b[0mmatrix\u001b[0m\u001b[0;34m.\u001b[0m\u001b[0miloc\u001b[0m\u001b[0;34m[\u001b[0m\u001b[0mridx\u001b[0m\u001b[0;34m,\u001b[0m \u001b[0;34m:\u001b[0m\u001b[0;34m]\u001b[0m\u001b[0;34m\u001b[0m\u001b[0;34m\u001b[0m\u001b[0m\n\u001b[1;32m     21\u001b[0m         \u001b[0;32mif\u001b[0m \u001b[0mnp\u001b[0m\u001b[0;34m.\u001b[0m\u001b[0msum\u001b[0m\u001b[0;34m(\u001b[0m\u001b[0mlikelihood\u001b[0m\u001b[0;34m)\u001b[0m \u001b[0;34m==\u001b[0m \u001b[0;36m0\u001b[0m\u001b[0;34m:\u001b[0m\u001b[0;34m\u001b[0m\u001b[0;34m\u001b[0m\u001b[0m\n",
      "\u001b[0;32m/opt/anaconda3/lib/python3.7/site-packages/pandas/core/indexing.py\u001b[0m in \u001b[0;36m__getitem__\u001b[0;34m(self, key)\u001b[0m\n\u001b[1;32m   1416\u001b[0m                 \u001b[0;32mexcept\u001b[0m \u001b[0;34m(\u001b[0m\u001b[0mKeyError\u001b[0m\u001b[0;34m,\u001b[0m \u001b[0mIndexError\u001b[0m\u001b[0;34m,\u001b[0m \u001b[0mAttributeError\u001b[0m\u001b[0;34m)\u001b[0m\u001b[0;34m:\u001b[0m\u001b[0;34m\u001b[0m\u001b[0;34m\u001b[0m\u001b[0m\n\u001b[1;32m   1417\u001b[0m                     \u001b[0;32mpass\u001b[0m\u001b[0;34m\u001b[0m\u001b[0;34m\u001b[0m\u001b[0m\n\u001b[0;32m-> 1418\u001b[0;31m             \u001b[0;32mreturn\u001b[0m \u001b[0mself\u001b[0m\u001b[0;34m.\u001b[0m\u001b[0m_getitem_tuple\u001b[0m\u001b[0;34m(\u001b[0m\u001b[0mkey\u001b[0m\u001b[0;34m)\u001b[0m\u001b[0;34m\u001b[0m\u001b[0;34m\u001b[0m\u001b[0m\n\u001b[0m\u001b[1;32m   1419\u001b[0m         \u001b[0;32melse\u001b[0m\u001b[0;34m:\u001b[0m\u001b[0;34m\u001b[0m\u001b[0;34m\u001b[0m\u001b[0m\n\u001b[1;32m   1420\u001b[0m             \u001b[0;31m# we by definition only have the 0th axis\u001b[0m\u001b[0;34m\u001b[0m\u001b[0;34m\u001b[0m\u001b[0;34m\u001b[0m\u001b[0m\n",
      "\u001b[0;32m/opt/anaconda3/lib/python3.7/site-packages/pandas/core/indexing.py\u001b[0m in \u001b[0;36m_getitem_tuple\u001b[0;34m(self, tup)\u001b[0m\n\u001b[1;32m   2092\u001b[0m         \u001b[0mself\u001b[0m\u001b[0;34m.\u001b[0m\u001b[0m_has_valid_tuple\u001b[0m\u001b[0;34m(\u001b[0m\u001b[0mtup\u001b[0m\u001b[0;34m)\u001b[0m\u001b[0;34m\u001b[0m\u001b[0;34m\u001b[0m\u001b[0m\n\u001b[1;32m   2093\u001b[0m         \u001b[0;32mtry\u001b[0m\u001b[0;34m:\u001b[0m\u001b[0;34m\u001b[0m\u001b[0;34m\u001b[0m\u001b[0m\n\u001b[0;32m-> 2094\u001b[0;31m             \u001b[0;32mreturn\u001b[0m \u001b[0mself\u001b[0m\u001b[0;34m.\u001b[0m\u001b[0m_getitem_lowerdim\u001b[0m\u001b[0;34m(\u001b[0m\u001b[0mtup\u001b[0m\u001b[0;34m)\u001b[0m\u001b[0;34m\u001b[0m\u001b[0;34m\u001b[0m\u001b[0m\n\u001b[0m\u001b[1;32m   2095\u001b[0m         \u001b[0;32mexcept\u001b[0m \u001b[0mIndexingError\u001b[0m\u001b[0;34m:\u001b[0m\u001b[0;34m\u001b[0m\u001b[0;34m\u001b[0m\u001b[0m\n\u001b[1;32m   2096\u001b[0m             \u001b[0;32mpass\u001b[0m\u001b[0;34m\u001b[0m\u001b[0;34m\u001b[0m\u001b[0m\n",
      "\u001b[0;32m/opt/anaconda3/lib/python3.7/site-packages/pandas/core/indexing.py\u001b[0m in \u001b[0;36m_getitem_lowerdim\u001b[0;34m(self, tup)\u001b[0m\n\u001b[1;32m    927\u001b[0m         \u001b[0;32mfor\u001b[0m \u001b[0mi\u001b[0m\u001b[0;34m,\u001b[0m \u001b[0mkey\u001b[0m \u001b[0;32min\u001b[0m \u001b[0menumerate\u001b[0m\u001b[0;34m(\u001b[0m\u001b[0mtup\u001b[0m\u001b[0;34m)\u001b[0m\u001b[0;34m:\u001b[0m\u001b[0;34m\u001b[0m\u001b[0;34m\u001b[0m\u001b[0m\n\u001b[1;32m    928\u001b[0m             \u001b[0;32mif\u001b[0m \u001b[0mis_label_like\u001b[0m\u001b[0;34m(\u001b[0m\u001b[0mkey\u001b[0m\u001b[0;34m)\u001b[0m \u001b[0;32mor\u001b[0m \u001b[0misinstance\u001b[0m\u001b[0;34m(\u001b[0m\u001b[0mkey\u001b[0m\u001b[0;34m,\u001b[0m \u001b[0mtuple\u001b[0m\u001b[0;34m)\u001b[0m\u001b[0;34m:\u001b[0m\u001b[0;34m\u001b[0m\u001b[0;34m\u001b[0m\u001b[0m\n\u001b[0;32m--> 929\u001b[0;31m                 \u001b[0msection\u001b[0m \u001b[0;34m=\u001b[0m \u001b[0mself\u001b[0m\u001b[0;34m.\u001b[0m\u001b[0m_getitem_axis\u001b[0m\u001b[0;34m(\u001b[0m\u001b[0mkey\u001b[0m\u001b[0;34m,\u001b[0m \u001b[0maxis\u001b[0m\u001b[0;34m=\u001b[0m\u001b[0mi\u001b[0m\u001b[0;34m)\u001b[0m\u001b[0;34m\u001b[0m\u001b[0;34m\u001b[0m\u001b[0m\n\u001b[0m\u001b[1;32m    930\u001b[0m \u001b[0;34m\u001b[0m\u001b[0m\n\u001b[1;32m    931\u001b[0m                 \u001b[0;31m# we have yielded a scalar ?\u001b[0m\u001b[0;34m\u001b[0m\u001b[0;34m\u001b[0m\u001b[0;34m\u001b[0m\u001b[0m\n",
      "\u001b[0;32m/opt/anaconda3/lib/python3.7/site-packages/pandas/core/indexing.py\u001b[0m in \u001b[0;36m_getitem_axis\u001b[0;34m(self, key, axis)\u001b[0m\n\u001b[1;32m   2157\u001b[0m             \u001b[0mself\u001b[0m\u001b[0;34m.\u001b[0m\u001b[0m_validate_integer\u001b[0m\u001b[0;34m(\u001b[0m\u001b[0mkey\u001b[0m\u001b[0;34m,\u001b[0m \u001b[0maxis\u001b[0m\u001b[0;34m)\u001b[0m\u001b[0;34m\u001b[0m\u001b[0;34m\u001b[0m\u001b[0m\n\u001b[1;32m   2158\u001b[0m \u001b[0;34m\u001b[0m\u001b[0m\n\u001b[0;32m-> 2159\u001b[0;31m             \u001b[0;32mreturn\u001b[0m \u001b[0mself\u001b[0m\u001b[0;34m.\u001b[0m\u001b[0m_get_loc\u001b[0m\u001b[0;34m(\u001b[0m\u001b[0mkey\u001b[0m\u001b[0;34m,\u001b[0m \u001b[0maxis\u001b[0m\u001b[0;34m=\u001b[0m\u001b[0maxis\u001b[0m\u001b[0;34m)\u001b[0m\u001b[0;34m\u001b[0m\u001b[0;34m\u001b[0m\u001b[0m\n\u001b[0m\u001b[1;32m   2160\u001b[0m \u001b[0;34m\u001b[0m\u001b[0m\n\u001b[1;32m   2161\u001b[0m     \u001b[0;31m# raise_missing is included for compat with the parent class signature\u001b[0m\u001b[0;34m\u001b[0m\u001b[0;34m\u001b[0m\u001b[0;34m\u001b[0m\u001b[0m\n",
      "\u001b[0;32m/opt/anaconda3/lib/python3.7/site-packages/pandas/core/indexing.py\u001b[0m in \u001b[0;36m_get_loc\u001b[0;34m(self, key, axis)\u001b[0m\n\u001b[1;32m    161\u001b[0m \u001b[0;34m\u001b[0m\u001b[0m\n\u001b[1;32m    162\u001b[0m     \u001b[0;32mdef\u001b[0m \u001b[0m_get_loc\u001b[0m\u001b[0;34m(\u001b[0m\u001b[0mself\u001b[0m\u001b[0;34m,\u001b[0m \u001b[0mkey\u001b[0m\u001b[0;34m:\u001b[0m \u001b[0mint\u001b[0m\u001b[0;34m,\u001b[0m \u001b[0maxis\u001b[0m\u001b[0;34m:\u001b[0m \u001b[0mint\u001b[0m\u001b[0;34m)\u001b[0m\u001b[0;34m:\u001b[0m\u001b[0;34m\u001b[0m\u001b[0;34m\u001b[0m\u001b[0m\n\u001b[0;32m--> 163\u001b[0;31m         \u001b[0;32mreturn\u001b[0m \u001b[0mself\u001b[0m\u001b[0;34m.\u001b[0m\u001b[0mobj\u001b[0m\u001b[0;34m.\u001b[0m\u001b[0m_ixs\u001b[0m\u001b[0;34m(\u001b[0m\u001b[0mkey\u001b[0m\u001b[0;34m,\u001b[0m \u001b[0maxis\u001b[0m\u001b[0;34m=\u001b[0m\u001b[0maxis\u001b[0m\u001b[0;34m)\u001b[0m\u001b[0;34m\u001b[0m\u001b[0;34m\u001b[0m\u001b[0m\n\u001b[0m\u001b[1;32m    164\u001b[0m \u001b[0;34m\u001b[0m\u001b[0m\n\u001b[1;32m    165\u001b[0m     \u001b[0;32mdef\u001b[0m \u001b[0m_slice\u001b[0m\u001b[0;34m(\u001b[0m\u001b[0mself\u001b[0m\u001b[0;34m,\u001b[0m \u001b[0mobj\u001b[0m\u001b[0;34m,\u001b[0m \u001b[0maxis\u001b[0m\u001b[0;34m:\u001b[0m \u001b[0mint\u001b[0m\u001b[0;34m,\u001b[0m \u001b[0mkind\u001b[0m\u001b[0;34m=\u001b[0m\u001b[0;32mNone\u001b[0m\u001b[0;34m)\u001b[0m\u001b[0;34m:\u001b[0m\u001b[0;34m\u001b[0m\u001b[0;34m\u001b[0m\u001b[0m\n",
      "\u001b[0;32m/opt/anaconda3/lib/python3.7/site-packages/pandas/core/frame.py\u001b[0m in \u001b[0;36m_ixs\u001b[0;34m(self, i, axis)\u001b[0m\n\u001b[1;32m   2914\u001b[0m             \u001b[0mlabel\u001b[0m \u001b[0;34m=\u001b[0m \u001b[0mself\u001b[0m\u001b[0;34m.\u001b[0m\u001b[0mindex\u001b[0m\u001b[0;34m[\u001b[0m\u001b[0mi\u001b[0m\u001b[0;34m]\u001b[0m\u001b[0;34m\u001b[0m\u001b[0;34m\u001b[0m\u001b[0m\n\u001b[1;32m   2915\u001b[0m             \u001b[0mnew_values\u001b[0m \u001b[0;34m=\u001b[0m \u001b[0mself\u001b[0m\u001b[0;34m.\u001b[0m\u001b[0m_data\u001b[0m\u001b[0;34m.\u001b[0m\u001b[0mfast_xs\u001b[0m\u001b[0;34m(\u001b[0m\u001b[0mi\u001b[0m\u001b[0;34m)\u001b[0m\u001b[0;34m\u001b[0m\u001b[0;34m\u001b[0m\u001b[0m\n\u001b[0;32m-> 2916\u001b[0;31m             \u001b[0;32mif\u001b[0m \u001b[0mis_scalar\u001b[0m\u001b[0;34m(\u001b[0m\u001b[0mnew_values\u001b[0m\u001b[0;34m)\u001b[0m\u001b[0;34m:\u001b[0m\u001b[0;34m\u001b[0m\u001b[0;34m\u001b[0m\u001b[0m\n\u001b[0m\u001b[1;32m   2917\u001b[0m                 \u001b[0;32mreturn\u001b[0m \u001b[0mnew_values\u001b[0m\u001b[0;34m\u001b[0m\u001b[0;34m\u001b[0m\u001b[0m\n\u001b[1;32m   2918\u001b[0m \u001b[0;34m\u001b[0m\u001b[0m\n",
      "\u001b[0;31mSystemError\u001b[0m: <built-in function is_scalar> returned a result with an error set"
     ]
    }
   ],
   "source": [
    "def incident_posterior(df, incident_interval=25):\n",
    "    incident_interval = timedelta(minutes=incident_interval)\n",
    "    features = []\n",
    "    incident_id = 0\n",
    "    for col in tqdm.tqdm(df.columns):\n",
    "        # for each region\n",
    "        if col.startswith('r_'):\n",
    "            surrounding_regions = ['time', 'reliability', col] + [x for x in h3_get_neighbors(col) if x in df.columns]\n",
    "            df_region = df.loc[df[col] > 0, surrounding_regions]\n",
    "            incident_time = np.min(df_region.time)\n",
    "            while incident_time <= np.max(df_region.time):\n",
    "                incident_records = df_region[(incident_time <= df_region.time) & (df_region.time < (incident_time + incident_interval))]\n",
    "                time_steps, posterior_probs = calculate_posterior(incident_records, col)\n",
    "                features_temp = []\n",
    "                for time_step, posterior_proba in zip(time_steps, posterior_probs):\n",
    "                    features_temp.append({\n",
    "                        'incident_id': incident_id, \n",
    "                        'start_time': incident_time,\n",
    "                        'end_time': incident_time + incident_interval,\n",
    "                        'time': time_step, \n",
    "                        'region': col,\n",
    "                        'posterior_proba': posterior_proba,\n",
    "                    })\n",
    "                features += features_temp\n",
    "                incident_time = np.min(df_region[(incident_time + incident_interval) <= df_region.time].time)\n",
    "                incident_id = incident_id + 1\n",
    "    return pd.DataFrame(features)\n",
    "\n",
    "features = incident_posterior(records)\n",
    "\n",
    "features.head()"
   ]
  },
  {
   "cell_type": "code",
   "execution_count": 73,
   "metadata": {},
   "outputs": [
    {
     "data": {
      "text/html": [
       "<div>\n",
       "<style scoped>\n",
       "    .dataframe tbody tr th:only-of-type {\n",
       "        vertical-align: middle;\n",
       "    }\n",
       "\n",
       "    .dataframe tbody tr th {\n",
       "        vertical-align: top;\n",
       "    }\n",
       "\n",
       "    .dataframe thead th {\n",
       "        text-align: right;\n",
       "    }\n",
       "</style>\n",
       "<table border=\"1\" class=\"dataframe\">\n",
       "  <thead>\n",
       "    <tr style=\"text-align: right;\">\n",
       "      <th></th>\n",
       "      <th>0</th>\n",
       "      <th>1</th>\n",
       "      <th>2</th>\n",
       "      <th>3</th>\n",
       "      <th>4</th>\n",
       "    </tr>\n",
       "  </thead>\n",
       "  <tbody>\n",
       "    <tr>\n",
       "      <td>0</td>\n",
       "      <td>1</td>\n",
       "      <td>2</td>\n",
       "      <td>3</td>\n",
       "      <td>4</td>\n",
       "      <td>5</td>\n",
       "    </tr>\n",
       "    <tr>\n",
       "      <td>1</td>\n",
       "      <td>1113</td>\n",
       "      <td>417</td>\n",
       "      <td>144</td>\n",
       "      <td>34</td>\n",
       "      <td>6</td>\n",
       "    </tr>\n",
       "  </tbody>\n",
       "</table>\n",
       "</div>"
      ],
      "text/plain": [
       "      0    1    2   3  4\n",
       "0     1    2    3   4  5\n",
       "1  1113  417  144  34  6"
      ]
     },
     "execution_count": 73,
     "metadata": {},
     "output_type": "execute_result"
    }
   ],
   "source": [
    "# number of incidents with the number of waze reports\n",
    "\n",
    "pd.DataFrame(np.unique(features.groupby('incident_id').size(), return_counts=True))"
   ]
  },
  {
   "cell_type": "code",
   "execution_count": 74,
   "metadata": {},
   "outputs": [
    {
     "data": {
      "text/plain": [
       "1714"
      ]
     },
     "execution_count": 74,
     "metadata": {},
     "output_type": "execute_result"
    }
   ],
   "source": [
    "np.unique(features.incident_id).size"
   ]
  },
  {
   "cell_type": "markdown",
   "metadata": {},
   "source": [
    "# Incident Prediction"
   ]
  },
  {
   "cell_type": "code",
   "execution_count": 75,
   "metadata": {},
   "outputs": [],
   "source": [
    "# Map labels with records\n",
    "def label_mapper(features, labels):\n",
    "    mapped_labels = []\n",
    "    for index, row in features.iterrows():\n",
    "        label = labels[(labels.time >= row.start_time) & (labels.time < row.end_time) & (labels.region==row.region)]\n",
    "        mapped_labels.append(label.shape[0] > 0)\n",
    "    return mapped_labels"
   ]
  },
  {
   "cell_type": "code",
   "execution_count": 76,
   "metadata": {},
   "outputs": [],
   "source": [
    "features.loc[:,'label'] = label_mapper(features, labels)"
   ]
  },
  {
   "cell_type": "code",
   "execution_count": 77,
   "metadata": {},
   "outputs": [
    {
     "data": {
      "text/html": [
       "<div>\n",
       "<style scoped>\n",
       "    .dataframe tbody tr th:only-of-type {\n",
       "        vertical-align: middle;\n",
       "    }\n",
       "\n",
       "    .dataframe tbody tr th {\n",
       "        vertical-align: top;\n",
       "    }\n",
       "\n",
       "    .dataframe thead th {\n",
       "        text-align: right;\n",
       "    }\n",
       "</style>\n",
       "<table border=\"1\" class=\"dataframe\">\n",
       "  <thead>\n",
       "    <tr style=\"text-align: right;\">\n",
       "      <th></th>\n",
       "      <th>incident_id</th>\n",
       "      <th>start_time</th>\n",
       "      <th>end_time</th>\n",
       "      <th>time</th>\n",
       "      <th>region</th>\n",
       "      <th>posterior_proba</th>\n",
       "      <th>label</th>\n",
       "    </tr>\n",
       "  </thead>\n",
       "  <tbody>\n",
       "    <tr>\n",
       "      <td>0</td>\n",
       "      <td>0</td>\n",
       "      <td>2019-12-01 01:35:57</td>\n",
       "      <td>2019-12-01 02:00:57</td>\n",
       "      <td>2019-12-01 01:35:00</td>\n",
       "      <td>r_86264d8dfffffff</td>\n",
       "      <td>0.025879</td>\n",
       "      <td>False</td>\n",
       "    </tr>\n",
       "    <tr>\n",
       "      <td>1</td>\n",
       "      <td>1</td>\n",
       "      <td>2019-12-02 12:26:36</td>\n",
       "      <td>2019-12-02 12:51:36</td>\n",
       "      <td>2019-12-02 12:25:00</td>\n",
       "      <td>r_86264d8dfffffff</td>\n",
       "      <td>1.000000</td>\n",
       "      <td>False</td>\n",
       "    </tr>\n",
       "    <tr>\n",
       "      <td>2</td>\n",
       "      <td>2</td>\n",
       "      <td>2019-12-02 21:43:14</td>\n",
       "      <td>2019-12-02 22:08:14</td>\n",
       "      <td>2019-12-02 21:40:00</td>\n",
       "      <td>r_86264d8dfffffff</td>\n",
       "      <td>0.003156</td>\n",
       "      <td>False</td>\n",
       "    </tr>\n",
       "    <tr>\n",
       "      <td>3</td>\n",
       "      <td>2</td>\n",
       "      <td>2019-12-02 21:43:14</td>\n",
       "      <td>2019-12-02 22:08:14</td>\n",
       "      <td>2019-12-02 21:45:00</td>\n",
       "      <td>r_86264d8dfffffff</td>\n",
       "      <td>0.453619</td>\n",
       "      <td>False</td>\n",
       "    </tr>\n",
       "    <tr>\n",
       "      <td>4</td>\n",
       "      <td>2</td>\n",
       "      <td>2019-12-02 21:43:14</td>\n",
       "      <td>2019-12-02 22:08:14</td>\n",
       "      <td>2019-12-02 22:00:00</td>\n",
       "      <td>r_86264d8dfffffff</td>\n",
       "      <td>0.039441</td>\n",
       "      <td>False</td>\n",
       "    </tr>\n",
       "  </tbody>\n",
       "</table>\n",
       "</div>"
      ],
      "text/plain": [
       "   incident_id          start_time            end_time                time  \\\n",
       "0            0 2019-12-01 01:35:57 2019-12-01 02:00:57 2019-12-01 01:35:00   \n",
       "1            1 2019-12-02 12:26:36 2019-12-02 12:51:36 2019-12-02 12:25:00   \n",
       "2            2 2019-12-02 21:43:14 2019-12-02 22:08:14 2019-12-02 21:40:00   \n",
       "3            2 2019-12-02 21:43:14 2019-12-02 22:08:14 2019-12-02 21:45:00   \n",
       "4            2 2019-12-02 21:43:14 2019-12-02 22:08:14 2019-12-02 22:00:00   \n",
       "\n",
       "              region  posterior_proba  label  \n",
       "0  r_86264d8dfffffff         0.025879  False  \n",
       "1  r_86264d8dfffffff         1.000000  False  \n",
       "2  r_86264d8dfffffff         0.003156  False  \n",
       "3  r_86264d8dfffffff         0.453619  False  \n",
       "4  r_86264d8dfffffff         0.039441  False  "
      ]
     },
     "execution_count": 77,
     "metadata": {},
     "output_type": "execute_result"
    }
   ],
   "source": [
    "features = features.dropna()\n",
    "\n",
    "features.head()"
   ]
  },
  {
   "cell_type": "code",
   "execution_count": 78,
   "metadata": {},
   "outputs": [
    {
     "data": {
      "text/plain": [
       "(array([False,  True]), array([2039,  506]))"
      ]
     },
     "execution_count": 78,
     "metadata": {},
     "output_type": "execute_result"
    }
   ],
   "source": [
    "np.unique(features.label, return_counts=True)"
   ]
  },
  {
   "cell_type": "code",
   "execution_count": 79,
   "metadata": {},
   "outputs": [
    {
     "data": {
      "text/plain": [
       "(array([False,  True]), array([660, 350]))"
      ]
     },
     "execution_count": 79,
     "metadata": {},
     "output_type": "execute_result"
    }
   ],
   "source": [
    "np.unique(features[features.posterior_proba> 0.6].label, return_counts=True)"
   ]
  },
  {
   "cell_type": "code",
   "execution_count": 80,
   "metadata": {},
   "outputs": [
    {
     "data": {
      "text/html": [
       "<div>\n",
       "<style scoped>\n",
       "    .dataframe tbody tr th:only-of-type {\n",
       "        vertical-align: middle;\n",
       "    }\n",
       "\n",
       "    .dataframe tbody tr th {\n",
       "        vertical-align: top;\n",
       "    }\n",
       "\n",
       "    .dataframe thead th {\n",
       "        text-align: right;\n",
       "    }\n",
       "</style>\n",
       "<table border=\"1\" class=\"dataframe\">\n",
       "  <thead>\n",
       "    <tr style=\"text-align: right;\">\n",
       "      <th></th>\n",
       "      <th>incident_id</th>\n",
       "      <th>start_time</th>\n",
       "      <th>end_time</th>\n",
       "      <th>time</th>\n",
       "      <th>region</th>\n",
       "      <th>posterior_proba</th>\n",
       "      <th>label</th>\n",
       "      <th>hour</th>\n",
       "      <th>is_peak</th>\n",
       "      <th>rand</th>\n",
       "    </tr>\n",
       "  </thead>\n",
       "  <tbody>\n",
       "    <tr>\n",
       "      <td>0</td>\n",
       "      <td>0</td>\n",
       "      <td>2019-12-01 01:35:57</td>\n",
       "      <td>2019-12-01 02:00:57</td>\n",
       "      <td>2019-12-01 01:35:00</td>\n",
       "      <td>r_86264d8dfffffff</td>\n",
       "      <td>0.025879</td>\n",
       "      <td>False</td>\n",
       "      <td>1</td>\n",
       "      <td>True</td>\n",
       "      <td>0.555270</td>\n",
       "    </tr>\n",
       "    <tr>\n",
       "      <td>1</td>\n",
       "      <td>1</td>\n",
       "      <td>2019-12-02 12:26:36</td>\n",
       "      <td>2019-12-02 12:51:36</td>\n",
       "      <td>2019-12-02 12:25:00</td>\n",
       "      <td>r_86264d8dfffffff</td>\n",
       "      <td>1.000000</td>\n",
       "      <td>False</td>\n",
       "      <td>12</td>\n",
       "      <td>True</td>\n",
       "      <td>0.175682</td>\n",
       "    </tr>\n",
       "    <tr>\n",
       "      <td>2</td>\n",
       "      <td>2</td>\n",
       "      <td>2019-12-02 21:43:14</td>\n",
       "      <td>2019-12-02 22:08:14</td>\n",
       "      <td>2019-12-02 21:40:00</td>\n",
       "      <td>r_86264d8dfffffff</td>\n",
       "      <td>0.003156</td>\n",
       "      <td>False</td>\n",
       "      <td>21</td>\n",
       "      <td>False</td>\n",
       "      <td>0.330542</td>\n",
       "    </tr>\n",
       "    <tr>\n",
       "      <td>3</td>\n",
       "      <td>2</td>\n",
       "      <td>2019-12-02 21:43:14</td>\n",
       "      <td>2019-12-02 22:08:14</td>\n",
       "      <td>2019-12-02 21:45:00</td>\n",
       "      <td>r_86264d8dfffffff</td>\n",
       "      <td>0.453619</td>\n",
       "      <td>False</td>\n",
       "      <td>21</td>\n",
       "      <td>False</td>\n",
       "      <td>0.150127</td>\n",
       "    </tr>\n",
       "    <tr>\n",
       "      <td>4</td>\n",
       "      <td>2</td>\n",
       "      <td>2019-12-02 21:43:14</td>\n",
       "      <td>2019-12-02 22:08:14</td>\n",
       "      <td>2019-12-02 22:00:00</td>\n",
       "      <td>r_86264d8dfffffff</td>\n",
       "      <td>0.039441</td>\n",
       "      <td>False</td>\n",
       "      <td>22</td>\n",
       "      <td>False</td>\n",
       "      <td>0.973796</td>\n",
       "    </tr>\n",
       "  </tbody>\n",
       "</table>\n",
       "</div>"
      ],
      "text/plain": [
       "   incident_id          start_time            end_time                time  \\\n",
       "0            0 2019-12-01 01:35:57 2019-12-01 02:00:57 2019-12-01 01:35:00   \n",
       "1            1 2019-12-02 12:26:36 2019-12-02 12:51:36 2019-12-02 12:25:00   \n",
       "2            2 2019-12-02 21:43:14 2019-12-02 22:08:14 2019-12-02 21:40:00   \n",
       "3            2 2019-12-02 21:43:14 2019-12-02 22:08:14 2019-12-02 21:45:00   \n",
       "4            2 2019-12-02 21:43:14 2019-12-02 22:08:14 2019-12-02 22:00:00   \n",
       "\n",
       "              region  posterior_proba  label  hour  is_peak      rand  \n",
       "0  r_86264d8dfffffff         0.025879  False     1     True  0.555270  \n",
       "1  r_86264d8dfffffff         1.000000  False    12     True  0.175682  \n",
       "2  r_86264d8dfffffff         0.003156  False    21    False  0.330542  \n",
       "3  r_86264d8dfffffff         0.453619  False    21    False  0.150127  \n",
       "4  r_86264d8dfffffff         0.039441  False    22    False  0.973796  "
      ]
     },
     "execution_count": 80,
     "metadata": {},
     "output_type": "execute_result"
    }
   ],
   "source": [
    "features.loc[:, 'hour'] = features.time.dt.hour\n",
    "\n",
    "features.loc[:, 'is_peak'] = ((1 <= features.hour) & (features.hour <= 4)) | ((10 <= features.hour) & (features.hour <= 14))\n",
    "\n",
    "features.loc[:, 'rand'] = np.random.rand(features.shape[0])\n",
    "\n",
    "features.head()"
   ]
  },
  {
   "cell_type": "code",
   "execution_count": 81,
   "metadata": {},
   "outputs": [
    {
     "data": {
      "text/plain": [
       "0.6844583987441131"
      ]
     },
     "execution_count": 81,
     "metadata": {},
     "output_type": "execute_result"
    }
   ],
   "source": [
    "from sklearn.linear_model import LogisticRegression\n",
    "from sklearn.model_selection import train_test_split\n",
    "\n",
    "from sklearn.preprocessing import OneHotEncoder\n",
    "from sklearn.compose import ColumnTransformer\n",
    "\n",
    "feature_extractor = ColumnTransformer([\n",
    "    ('posterior_proba', 'passthrough', ['posterior_proba']),\n",
    "    # ('is_peak', 'passthrough', ['is_peak']),\n",
    "#     ('hour_enc', OneHotEncoder(), ['hour']),\n",
    "#     ('region_enc', OneHotEncoder(), ['region']),\n",
    "])\n",
    "\n",
    "X = feature_extractor.fit_transform(features)\n",
    "y = features.label\n",
    "\n",
    "X_train, X_test, y_train, y_test = train_test_split(X, y, test_size=0.25, random_state=42)\n",
    "\n",
    "reg = LogisticRegression(random_state=42, class_weight='balanced').fit(X_train, y_train)\n",
    "\n",
    "y_pred = reg.predict(X_test)\n",
    "\n",
    "# cross validate\n",
    "\n",
    "reg.score(X_test, y_test)"
   ]
  },
  {
   "cell_type": "code",
   "execution_count": 82,
   "metadata": {},
   "outputs": [
    {
     "data": {
      "text/plain": [
       "array([[0.55740994]])"
      ]
     },
     "execution_count": 82,
     "metadata": {},
     "output_type": "execute_result"
    }
   ],
   "source": [
    "-reg.intercept_ / reg.coef_"
   ]
  },
  {
   "cell_type": "code",
   "execution_count": 83,
   "metadata": {},
   "outputs": [
    {
     "name": "stdout",
     "output_type": "stream",
     "text": [
      "              precision    recall  f1-score   support\n",
      "\n",
      "       False       0.90      0.69      0.78       518\n",
      "        True       0.33      0.66      0.44       119\n",
      "\n",
      "    accuracy                           0.68       637\n",
      "   macro avg       0.61      0.67      0.61       637\n",
      "weighted avg       0.79      0.68      0.72       637\n",
      "\n"
     ]
    }
   ],
   "source": [
    "from sklearn.metrics import classification_report\n",
    "\n",
    "# Random Probability Baseline\n",
    "\n",
    "#               precision    recall  f1-score   support\n",
    "\n",
    "#        False       0.80      0.51      0.62       698\n",
    "#         True       0.18      0.47      0.26       166\n",
    "\n",
    "#     accuracy                           0.50       864\n",
    "#    macro avg       0.49      0.49      0.44       864\n",
    "# weighted avg       0.68      0.50      0.55       864\n",
    "\n",
    "# ---------------------------------------------------------\n",
    "\n",
    "# Probability calulation using proposed method\n",
    "\n",
    "# -- With equal distribution of region priors \n",
    "\n",
    "#               precision    recall  f1-score   support\n",
    "\n",
    "#        False       0.85      0.91      0.88       698\n",
    "#         True       0.47      0.34      0.40       166\n",
    "\n",
    "#     accuracy                           0.80       864\n",
    "#    macro avg       0.66      0.63      0.64       864\n",
    "# weighted avg       0.78      0.80      0.79       864\n",
    "\n",
    "# -- With calculated distribution of region priors based on region labels\n",
    "\n",
    "#               precision    recall  f1-score   support\n",
    "\n",
    "#        False       0.86      0.88      0.87       698\n",
    "#         True       0.43      0.37      0.40       166\n",
    "\n",
    "#     accuracy                           0.78       864\n",
    "#    macro avg       0.64      0.63      0.63       864\n",
    "# weighted avg       0.77      0.78      0.78       864\n",
    "\n",
    "print(classification_report(y_test, y_pred))"
   ]
  },
  {
   "cell_type": "code",
   "execution_count": 426,
   "metadata": {},
   "outputs": [],
   "source": [
    "import scipy\n",
    "from sklearn.metrics import f1_score, precision_score, recall_score, accuracy_score"
   ]
  },
  {
   "cell_type": "code",
   "execution_count": 427,
   "metadata": {},
   "outputs": [
    {
     "name": "stdout",
     "output_type": "stream",
     "text": [
      "Optimization terminated successfully.\n",
      "         Current function value: -0.405858\n",
      "         Iterations: 10\n",
      "         Function evaluations: 27\n",
      "[0.55]\n",
      "              precision    recall  f1-score   support\n",
      "\n",
      "       False       0.90      0.50      0.64      2039\n",
      "        True       0.28      0.77      0.41       506\n",
      "\n",
      "    accuracy                           0.55      2545\n",
      "   macro avg       0.59      0.63      0.52      2545\n",
      "weighted avg       0.77      0.55      0.60      2545\n",
      "\n"
     ]
    }
   ],
   "source": [
    "def thr_to_f1_score(thr, Y_test, predictions):\n",
    "   return -f1_score(Y_test, np.array(predictions > thr, dtype=np.int))\n",
    "\n",
    "best_thr = scipy.optimize.fmin(thr_to_f1_score, args=(features['label'].values, features['posterior_proba'].values), x0=0.5, maxiter=100)\n",
    "\n",
    "print(best_thr)\n",
    "\n",
    "print(classification_report(features['label'].values, features['posterior_proba'].values > best_thr))"
   ]
  },
  {
   "cell_type": "code",
   "execution_count": 428,
   "metadata": {},
   "outputs": [
    {
     "name": "stdout",
     "output_type": "stream",
     "text": [
      "Optimization terminated successfully.\n",
      "         Current function value: -0.275960\n",
      "         Iterations: 10\n",
      "         Function evaluations: 27\n",
      "[0.55]\n",
      "              precision    recall  f1-score   support\n",
      "\n",
      "       False       0.90      0.50      0.64      2039\n",
      "        True       0.28      0.77      0.41       506\n",
      "\n",
      "    accuracy                           0.55      2545\n",
      "   macro avg       0.59      0.63      0.52      2545\n",
      "weighted avg       0.77      0.55      0.60      2545\n",
      "\n"
     ]
    }
   ],
   "source": [
    "def thr_to_precision_score(thr, Y_test, predictions):\n",
    "    return -precision_score(Y_test, np.array(predictions > thr, dtype=np.int))\n",
    "\n",
    "best_thr = scipy.optimize.fmin(thr_to_precision_score, args=(features['label'].values, features['posterior_proba'].values), x0=0.5, maxiter=100)\n",
    "\n",
    "print(best_thr)\n",
    "\n",
    "print(classification_report(features['label'].values, features['posterior_proba'].values > best_thr))"
   ]
  },
  {
   "cell_type": "code",
   "execution_count": 429,
   "metadata": {},
   "outputs": [
    {
     "name": "stdout",
     "output_type": "stream",
     "text": [
      "Optimization terminated successfully.\n",
      "         Current function value: -1.000000\n",
      "         Iterations: 16\n",
      "         Function evaluations: 42\n",
      "[-0.05]\n",
      "              precision    recall  f1-score   support\n",
      "\n",
      "       False       0.00      0.00      0.00      2039\n",
      "        True       0.20      1.00      0.33       506\n",
      "\n",
      "    accuracy                           0.20      2545\n",
      "   macro avg       0.10      0.50      0.17      2545\n",
      "weighted avg       0.04      0.20      0.07      2545\n",
      "\n"
     ]
    },
    {
     "name": "stderr",
     "output_type": "stream",
     "text": [
      "/opt/anaconda3/lib/python3.7/site-packages/sklearn/metrics/_classification.py:1272: UndefinedMetricWarning: Precision and F-score are ill-defined and being set to 0.0 in labels with no predicted samples. Use `zero_division` parameter to control this behavior.\n",
      "  _warn_prf(average, modifier, msg_start, len(result))\n"
     ]
    }
   ],
   "source": [
    "def thr_to_recall_score(thr, Y_test, predictions):\n",
    "    return -recall_score(Y_test, np.array(predictions > thr, dtype=np.int))\n",
    "\n",
    "best_thr = scipy.optimize.fmin(thr_to_recall_score, args=(features['label'].values, features['posterior_proba'].values), x0=0.5, maxiter=100)\n",
    "\n",
    "print(best_thr)\n",
    "\n",
    "print(classification_report(features['label'].values, features['posterior_proba'].values > best_thr))"
   ]
  },
  {
   "cell_type": "code",
   "execution_count": 430,
   "metadata": {},
   "outputs": [
    {
     "name": "stdout",
     "output_type": "stream",
     "text": [
      "Optimization terminated successfully.\n",
      "         Current function value: -0.553635\n",
      "         Iterations: 10\n",
      "         Function evaluations: 27\n",
      "              precision    recall  f1-score   support\n",
      "\n",
      "       False       0.90      0.50      0.64      2039\n",
      "        True       0.28      0.77      0.41       506\n",
      "\n",
      "    accuracy                           0.55      2545\n",
      "   macro avg       0.59      0.63      0.52      2545\n",
      "weighted avg       0.77      0.55      0.60      2545\n",
      "\n"
     ]
    }
   ],
   "source": [
    "def thr_to_accuracy_score(thr, Y_test, predictions):\n",
    "    return -accuracy_score(Y_test, np.array(predictions > thr, dtype=np.int))\n",
    "\n",
    "best_thr = scipy.optimize.fmin(thr_to_accuracy_score, args=(features['label'].values, features['posterior_proba'].values), x0=0.5, maxiter=100)\n",
    "\n",
    "print(classification_report(features['label'].values, features['posterior_proba'].values > best_thr))"
   ]
  },
  {
   "cell_type": "code",
   "execution_count": null,
   "metadata": {},
   "outputs": [],
   "source": []
  }
 ],
 "metadata": {
  "kernelspec": {
   "display_name": "Python 3",
   "language": "python",
   "name": "python3"
  },
  "language_info": {
   "codemirror_mode": {
    "name": "ipython",
    "version": 3
   },
   "file_extension": ".py",
   "mimetype": "text/x-python",
   "name": "python",
   "nbconvert_exporter": "python",
   "pygments_lexer": "ipython3",
   "version": "3.7.4"
  },
  "pycharm": {
   "stem_cell": {
    "cell_type": "raw",
    "metadata": {
     "collapsed": false
    },
    "source": []
   }
  }
 },
 "nbformat": 4,
 "nbformat_minor": 4
}
